{
 "cells": [
  {
   "cell_type": "code",
   "execution_count": 1,
   "metadata": {},
   "outputs": [
    {
     "name": "stdout",
     "output_type": "stream",
     "text": [
      "{'title': 'Hong Kong', 'summary': \"Hong Kong is a special administrative region of the People's Republic of China. With 7.4 million residents of various nationalities in a 1,104-square-kilometre (426 sq mi) territory, Hong Kong is the fourth most densely populated region in the world.\\nHong Kong was established as a colony of the British Empire after the Qing dynasty ceded Hong Kong Island in 1841–1842 as a consequence of losing the First Opium War. The colony expanded to the Kowloon Peninsula in 1860 and was further extended when the United Kingdom obtained a 99-year lease of the New Territories in 1898. Hong Kong was occupied by Japan from 1941 to 1945 during World War II. The territory was handed over from the United Kingdom to China in 1997. Hong Kong maintains separate governing and economic systems from that of mainland China under the principle of one country, two systems.\\nOriginally a sparsely populated area of farming and fishing villages, the territory is now one of the world's most significant financial centres and commercial ports. Hong Kong is the world's third-ranked global financial centre (behind New York City and London), ninth-largest exporter, and eighth-largest importer. Its currency, the Hong Kong dollar, is the ninth most traded currency in the world. Home to the seventh-highest number of billionaires of any city in the world, Hong Kong has the largest number of ultra high-net-worth individuals. Although the city has one of the highest per capita incomes in the world, severe income inequality exists among the population. Despite being the city with the most skyscrapers in the world, housing in Hong Kong is consistently in high demand.\\nHong Kong is a highly developed territory and has a Human Development Index (HDI) of 0.956, ranking fourth in the world and currently the only place in Asia to be in the top 5. The city has the highest life expectancy in the world, and a public transport usage exceeding 90 per cent.\", 'url': 'https://en.wikipedia.org/wiki/Hong_Kong'}\n"
     ]
    }
   ],
   "source": [
    "import agentic_tools\n",
    "# Example usage\n",
    "result = agentic_tools.query_wikipedia(\"Hong Kong\")\n",
    "print(result)"
   ]
  },
  {
   "cell_type": "code",
   "execution_count": null,
   "metadata": {},
   "outputs": [],
   "source": [
    "results = agentic_tools.search_arxiv(\"machine learning\")\n",
    "for result in results:\n",
    "    print(f\"Title: {result['title']}\")\n",
    "    print(f\"Authors: {', '.join(result['authors'])}\")\n",
    "    print(f\"Summary: {result['summary']}\")\n",
    "    print(f\"URL: {result['url']}\\n\")"
   ]
  },
  {
   "cell_type": "code",
   "execution_count": null,
   "metadata": {},
   "outputs": [],
   "source": [
    "ticker = \"AAPL\"  # Apple's stock ticker\n",
    "data = agentic_tools.get_stock_data(ticker)\n",
    "print(data)"
   ]
  },
  {
   "cell_type": "code",
   "execution_count": null,
   "metadata": {},
   "outputs": [],
   "source": [
    "weather = agentic_tools.get_hko_weather()\n",
    "print(weather)"
   ]
  },
  {
   "cell_type": "code",
   "execution_count": null,
   "metadata": {},
   "outputs": [],
   "source": [
    "latitude = 40.7128  # Example for New York City\n",
    "longitude = -74.0060\n",
    "weather = agentic_tools.get_global_weather(latitude, longitude)\n",
    "print(weather)"
   ]
  },
  {
   "cell_type": "code",
   "execution_count": 2,
   "metadata": {},
   "outputs": [
    {
     "name": "stdout",
     "output_type": "stream",
     "text": [
      "[]\n"
     ]
    }
   ],
   "source": [
    "results = agentic_tools.search(\"Hong Kong\")\n",
    "print(results)"
   ]
  },
  {
   "cell_type": "code",
   "execution_count": 3,
   "metadata": {},
   "outputs": [
    {
     "name": "stdout",
     "output_type": "stream",
     "text": [
      "{'Abstract': '', 'AbstractSource': 'Wikipedia', 'AbstractText': '', 'AbstractURL': 'https://en.wikipedia.org/wiki/Python', 'Answer': '', 'AnswerType': '', 'Definition': '', 'DefinitionSource': '', 'DefinitionURL': '', 'Entity': '', 'Heading': 'Python', 'Image': '', 'ImageHeight': 0, 'ImageIsLogo': 0, 'ImageWidth': 0, 'Infobox': '', 'Redirect': '', 'RelatedTopics': [{'FirstURL': 'https://duckduckgo.com/Python_(programming_language)', 'Icon': {'Height': '', 'URL': '/i/7eec482b.png', 'Width': ''}, 'Result': '<a href=\"https://duckduckgo.com/Python_(programming_language)\">Python (programming language)</a>A high-level, general-purpose programming language.', 'Text': 'Python (programming language) A high-level, general-purpose programming language.'}, {'FirstURL': 'https://duckduckgo.com/Monty_Python', 'Icon': {'Height': '', 'URL': '/i/4eec9e83.jpg', 'Width': ''}, 'Result': '<a href=\"https://duckduckgo.com/Monty_Python\">Monty Python</a>A British comedy troupe formed in 1969 consisting of Graham Chapman, John Cleese, Terry Gilliam...', 'Text': 'Monty Python A British comedy troupe formed in 1969 consisting of Graham Chapman, John Cleese, Terry Gilliam...'}, {'FirstURL': 'https://duckduckgo.com/Python_(missile)', 'Icon': {'Height': '', 'URL': '/i/d13eb4ef.jpg', 'Width': ''}, 'Result': '<a href=\"https://duckduckgo.com/Python_(missile)\">Python (missile)</a>A family of air-to-air missiles built by the Israeli weapons manufacturer Rafael Advanced Defense...', 'Text': 'Python (missile) A family of air-to-air missiles built by the Israeli weapons manufacturer Rafael Advanced Defense...'}, {'Name': 'Snakes', 'Topics': [{'FirstURL': 'https://duckduckgo.com/Pythonidae', 'Icon': {'Height': '', 'URL': '/i/0035e5d0.jpg', 'Width': ''}, 'Result': '<a href=\"https://duckduckgo.com/Pythonidae\">Pythonidae</a>A family of nonvenomous snakes found in Africa, Asia, and Australia.', 'Text': 'Pythonidae A family of nonvenomous snakes found in Africa, Asia, and Australia.'}, {'FirstURL': 'https://duckduckgo.com/Python_(genus)', 'Icon': {'Height': '', 'URL': '/i/c02fd87b.jpg', 'Width': ''}, 'Result': '<a href=\"https://duckduckgo.com/Python_(genus)\">Python (genus)</a>A genus of constricting snakes in the Pythonidae family native to the tropics and subtropics of...', 'Text': 'Python (genus) A genus of constricting snakes in the Pythonidae family native to the tropics and subtropics of...'}, {'FirstURL': 'https://duckduckgo.com/Python_(mythology)', 'Icon': {'Height': '', 'URL': '/i/e8a6c01f.jpg', 'Width': ''}, 'Result': '<a href=\"https://duckduckgo.com/Python_(mythology)\">Python (mythology)</a>The serpent, sometimes represented as a medieval-style dragon, living at the center of the Earth...', 'Text': 'Python (mythology) The serpent, sometimes represented as a medieval-style dragon, living at the center of the Earth...'}]}, {'Name': 'People', 'Topics': [{'FirstURL': 'https://duckduckgo.com/Python_of_Aenus', 'Icon': {'Height': '', 'URL': '', 'Width': ''}, 'Result': '<a href=\"https://duckduckgo.com/Python_of_Aenus\">Python of Aenus</a>A Greek philosopher and a former student of Plato.', 'Text': 'Python of Aenus A Greek philosopher and a former student of Plato.'}, {'FirstURL': 'https://duckduckgo.com/Python_(painter)', 'Icon': {'Height': '', 'URL': '', 'Width': ''}, 'Result': '<a href=\"https://duckduckgo.com/Python_(painter)\">Python (painter)</a>A Greek vase painter in the city of Poseidonia in Campania, Southern Italy, one of the major...', 'Text': 'Python (painter) A Greek vase painter in the city of Poseidonia in Campania, Southern Italy, one of the major...'}, {'FirstURL': 'https://duckduckgo.com/Python_of_Byzantium', 'Icon': {'Height': '', 'URL': '', 'Width': ''}, 'Result': '<a href=\"https://duckduckgo.com/Python_of_Byzantium\">Python of Byzantium</a>An ancient Greek statesman and former student of Isocrates.', 'Text': 'Python of Byzantium An ancient Greek statesman and former student of Isocrates.'}, {'FirstURL': 'https://duckduckgo.com/Python_of_Catana', 'Icon': {'Height': '', 'URL': '', 'Width': ''}, 'Result': '<a href=\"https://duckduckgo.com/Python_of_Catana\">Python of Catana</a>A dramatic poet of the time of Alexander, whom he accompanied into Asia, and whose army he...', 'Text': 'Python of Catana A dramatic poet of the time of Alexander, whom he accompanied into Asia, and whose army he...'}, {'FirstURL': 'https://duckduckgo.com/Python_Anghelo', 'Icon': {'Height': '', 'URL': '', 'Width': ''}, 'Result': '<a href=\"https://duckduckgo.com/Python_Anghelo\">Python Anghelo</a>A graphic artist best known for his work on video games and pinball machines.', 'Text': 'Python Anghelo A graphic artist best known for his work on video games and pinball machines.'}]}, {'Name': 'Roller coasters', 'Topics': [{'FirstURL': 'https://duckduckgo.com/Python_(Efteling)', 'Icon': {'Height': '', 'URL': '/i/250a54c9.jpg', 'Width': ''}, 'Result': '<a href=\"https://duckduckgo.com/Python_(Efteling)\">Python (Efteling)</a>A double-loop corkscrew roller coaster in the Efteling amusement park in the Netherlands.', 'Text': 'Python (Efteling) A double-loop corkscrew roller coaster in the Efteling amusement park in the Netherlands.'}, {'FirstURL': 'https://duckduckgo.com/Python_(Busch_Gardens_Tampa_Bay)', 'Icon': {'Height': '', 'URL': '/i/30cba8e6.jpg', 'Width': ''}, 'Result': '<a href=\"https://duckduckgo.com/Python_(Busch_Gardens_Tampa_Bay)\">Python (Busch Gardens Tampa Bay)</a>A steel roller coaster located at Busch Gardens Tampa Bay theme park in Tampa, Florida.', 'Text': 'Python (Busch Gardens Tampa Bay) A steel roller coaster located at Busch Gardens Tampa Bay theme park in Tampa, Florida.'}, {'FirstURL': 'https://duckduckgo.com/Python_(Coney_Island%2C_Cincinnati%2C_Ohio)', 'Icon': {'Height': '', 'URL': '', 'Width': ''}, 'Result': '<a href=\"https://duckduckgo.com/Python_(Coney_Island%2C_Cincinnati%2C_Ohio)\">Python (Coney Island, Cincinnati, Ohio)</a>A D.P.V. Rides designed Zyklon-style steel roller coaster.', 'Text': 'Python (Coney Island, Cincinnati, Ohio) A D.P.V. Rides designed Zyklon-style steel roller coaster.'}]}, {'Name': 'Vehicles', 'Topics': [{'FirstURL': 'https://duckduckgo.com/Python_(automobile_maker)', 'Icon': {'Height': '', 'URL': '', 'Width': ''}, 'Result': '<a href=\"https://duckduckgo.com/Python_(automobile_maker)\">Python (automobile maker)</a>A Cobra replica automobile company based in Melbourne, Australia.', 'Text': 'Python (automobile maker) A Cobra replica automobile company based in Melbourne, Australia.'}, {'FirstURL': 'https://duckduckgo.com/Python_(Ford_prototype)', 'Icon': {'Height': '', 'URL': '', 'Width': ''}, 'Result': '<a href=\"https://duckduckgo.com/Python_(Ford_prototype)\">Python (Ford prototype)</a>A small- production run sports car modeled closely after a prototype designed by Ford in the...', 'Text': 'Python (Ford prototype) A small- production run sports car modeled closely after a prototype designed by Ford in the...'}]}, {'Name': 'Weaponry', 'Topics': [{'FirstURL': 'https://duckduckgo.com/Python_(missile)', 'Icon': {'Height': '', 'URL': '/i/d13eb4ef.jpg', 'Width': ''}, 'Result': '<a href=\"https://duckduckgo.com/Python_(missile)\">Python (missile)</a>A family of air-to-air missiles built by the Israeli weapons manufacturer Rafael Advanced Defense...', 'Text': 'Python (missile) A family of air-to-air missiles built by the Israeli weapons manufacturer Rafael Advanced Defense...'}, {'FirstURL': 'https://duckduckgo.com/Python_(nuclear_primary)', 'Icon': {'Height': '', 'URL': '', 'Width': ''}, 'Result': '<a href=\"https://duckduckgo.com/Python_(nuclear_primary)\">Python (nuclear primary)</a> A gas-boosted fission primary used in several designs of American thermonuclear weapons.', 'Text': 'Python (nuclear primary) A gas-boosted fission primary used in several designs of American thermonuclear weapons.'}, {'FirstURL': 'https://duckduckgo.com/Colt_Python', 'Icon': {'Height': '', 'URL': '/i/7e29c05b.jpg', 'Width': ''}, 'Result': '<a href=\"https://duckduckgo.com/Colt_Python\">Colt Python</a>A double action/single action revolver chambered for the.357 Magnum cartridge.', 'Text': 'Colt Python A double action/single action revolver chambered for the.357 Magnum cartridge.'}]}, {'Name': 'Other uses', 'Topics': [{'FirstURL': 'https://duckduckgo.com/Python_(codename)', 'Icon': {'Height': '', 'URL': '', 'Width': ''}, 'Result': '<a href=\"https://duckduckgo.com/Python_(codename)\">Python (codename)</a>A Cold War contingency plan of the British Government for the continuity of government in the...', 'Text': 'Python (codename) A Cold War contingency plan of the British Government for the continuity of government in the...'}, {'FirstURL': 'https://duckduckgo.com/Python_(film)', 'Icon': {'Height': '', 'URL': '/i/21aa3787.jpg', 'Width': ''}, 'Result': '<a href=\"https://duckduckgo.com/Python_(film)\">Python (film)</a>A 2000 made-for-TV horror film directed by Richard Clabaugh.', 'Text': 'Python (film) A 2000 made-for-TV horror film directed by Richard Clabaugh.'}, {'FirstURL': 'https://duckduckgo.com/Monty_Python', 'Icon': {'Height': '', 'URL': '/i/4eec9e83.jpg', 'Width': ''}, 'Result': '<a href=\"https://duckduckgo.com/Monty_Python\">Monty Python</a>A British comedy troupe formed in 1969 consisting of Graham Chapman, John Cleese, Terry Gilliam...', 'Text': 'Monty Python A British comedy troupe formed in 1969 consisting of Graham Chapman, John Cleese, Terry Gilliam...'}, {'FirstURL': 'https://duckduckgo.com/Python_(Monty)_Pictures', 'Icon': {'Height': '', 'URL': '', 'Width': ''}, 'Result': '<a href=\"https://duckduckgo.com/Python_(Monty)_Pictures\">Python (Monty) Pictures</a>Python Pictures Limited is composed of the four surviving members of the main Monty Python team...', 'Text': 'Python (Monty) Pictures Python Pictures Limited is composed of the four surviving members of the main Monty Python team...'}]}, {'Name': 'See also', 'Topics': [{'FirstURL': 'https://duckduckgo.com/Pithon', 'Icon': {'Height': '', 'URL': '', 'Width': ''}, 'Result': '<a href=\"https://duckduckgo.com/Pithon\">Pithon</a> A commune in the Aisne department in Hauts-de-France in northern France.', 'Text': 'Pithon A commune in the Aisne department in Hauts-de-France in northern France.'}, {'FirstURL': 'https://duckduckgo.com/Pyton', 'Icon': {'Height': '', 'URL': '', 'Width': ''}, 'Result': '<a href=\"https://duckduckgo.com/Pyton\">Pyton</a> A Norwegian comic book series which was produced by the company Gevion, and afterwards...', 'Text': 'Pyton A Norwegian comic book series which was produced by the company Gevion, and afterwards...'}]}], 'Results': [], 'Type': 'D', 'meta': {'attribution': None, 'blockgroup': None, 'created_date': None, 'description': 'Wikipedia', 'designer': None, 'dev_date': None, 'dev_milestone': 'live', 'developer': [{'name': 'DDG Team', 'type': 'ddg', 'url': 'http://www.duckduckhack.com'}], 'example_query': 'nikola tesla', 'id': 'wikipedia_fathead', 'is_stackexchange': None, 'js_callback_name': 'wikipedia', 'live_date': None, 'maintainer': {'github': 'duckduckgo'}, 'name': 'Wikipedia', 'perl_module': 'DDG::Fathead::Wikipedia', 'producer': None, 'production_state': 'online', 'repo': 'fathead', 'signal_from': 'wikipedia_fathead', 'src_domain': 'en.wikipedia.org', 'src_id': 1, 'src_name': 'Wikipedia', 'src_options': {'directory': '', 'is_fanon': 0, 'is_mediawiki': 1, 'is_wikipedia': 1, 'language': 'en', 'min_abstract_length': '20', 'skip_abstract': 0, 'skip_abstract_paren': 0, 'skip_end': '0', 'skip_icon': 0, 'skip_image_name': 0, 'skip_qr': '', 'source_skip': '', 'src_info': ''}, 'src_url': None, 'status': 'live', 'tab': 'About', 'topic': ['productivity'], 'unsafe': 0}}\n"
     ]
    }
   ],
   "source": [
    "results = agentic_tools.query_duckduckgo(\"Python\")\n",
    "for result in results:\n",
    "    print(result.get(\"FirstURL\", \"No URL\"))"
   ]
  },
  {
   "cell_type": "code",
   "execution_count": null,
   "metadata": {},
   "outputs": [],
   "source": [
    "query = \"Hong Kong\"\n",
    "results = agentic_tools.search_duckduckgo(query)\n",
    "# print(results)\n",
    "for result in results:\n",
    "    print(result['title'], result['href'])"
   ]
  }
 ],
 "metadata": {
  "kernelspec": {
   "display_name": "Python 3",
   "language": "python",
   "name": "python3"
  },
  "language_info": {
   "codemirror_mode": {
    "name": "ipython",
    "version": 3
   },
   "file_extension": ".py",
   "mimetype": "text/x-python",
   "name": "python",
   "nbconvert_exporter": "python",
   "pygments_lexer": "ipython3",
   "version": "3.12.5"
  }
 },
 "nbformat": 4,
 "nbformat_minor": 2
}
